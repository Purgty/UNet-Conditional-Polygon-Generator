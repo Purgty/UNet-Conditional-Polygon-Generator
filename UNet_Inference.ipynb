{
 "cells": [
  {
   "cell_type": "markdown",
   "id": "70079969",
   "metadata": {},
   "source": [
    "# Conditional UNet Inference\n",
    "This notebook demonstrates how to load a trained Conditional UNet model and generate colored polygon images based on grayscale input and a target color name."
   ]
  },
  {
   "cell_type": "code",
   "execution_count": 2,
   "id": "18a836ed",
   "metadata": {},
   "outputs": [],
   "source": [
    "import torch\n",
    "import torch.nn as nn\n",
    "from PIL import Image\n",
    "import numpy as np\n",
    "from torchvision import transforms\n",
    "import matplotlib.pyplot as plt\n",
    "import os\n",
    "from model import ConditionalUNet"
   ]
  },
  {
   "cell_type": "markdown",
   "id": "82f6de1c",
   "metadata": {},
   "source": [
    "## Configuration and Paths"
   ]
  },
  {
   "cell_type": "code",
   "execution_count": 3,
   "id": "1b999d60",
   "metadata": {},
   "outputs": [],
   "source": [
    "config = {\n",
    "    \"img_size\": 64,\n",
    "    \"embed_dim\": 512,\n",
    "    \"colour_names\": [\"red\", \"green\", \"blue\", \"yellow\", \"orange\", \"purple\", \"cyan\", \"magenta\", \"lime\", \"pink\"]\n",
    "}\n",
    "\n",
    "model_path = r'C:\\Users\\aswin\\OneDrive\\Desktop\\Sandbox\\Ayna UNET Model\\wandb\\models\\conditional_unet_50mod.pth'\n",
    "input_image_path = r'C:\\Users\\aswin\\OneDrive\\Desktop\\Sandbox\\Ayna UNET Model\\dataset\\validation\\inputs\\octagon.png'\n",
    "desired_colour_name = 'red'"
   ]
  },
  {
   "cell_type": "markdown",
   "id": "f3dcac9c",
   "metadata": {},
   "source": [
    "## Load Model"
   ]
  },
  {
   "cell_type": "code",
   "execution_count": 4,
   "id": "0c4aaf40",
   "metadata": {},
   "outputs": [],
   "source": [
    "def get_device():\n",
    "    return torch.device(\"cuda\" if torch.cuda.is_available() else \"cpu\")\n",
    "\n",
    "def load_model(model_path, config, device):\n",
    "    model = ConditionalUNet(\n",
    "        n_channels=1,\n",
    "        n_classes=3,\n",
    "        num_colors=len(config['colour_names']),\n",
    "        embed_dim=config['embed_dim']\n",
    "    ).to(device)\n",
    "    model.load_state_dict(torch.load(model_path, map_location=device))\n",
    "    model.eval()\n",
    "    return model\n",
    "\n",
    "device = get_device()\n",
    "model = load_model(model_path, config, device)"
   ]
  },
  {
   "cell_type": "markdown",
   "id": "bddff3e7",
   "metadata": {},
   "source": [
    "## Preprocess Input Image"
   ]
  },
  {
   "cell_type": "code",
   "execution_count": 5,
   "id": "30436112",
   "metadata": {},
   "outputs": [],
   "source": [
    "def preprocess_image(image_path, img_size):\n",
    "    transform = transforms.Compose([\n",
    "        transforms.Grayscale(num_output_channels=1),\n",
    "        transforms.Resize((img_size, img_size)),\n",
    "        transforms.ToTensor(),\n",
    "    ])\n",
    "    image = Image.open(image_path)\n",
    "    return transform(image).unsqueeze(0)\n",
    "\n",
    "input_tensor = preprocess_image(input_image_path, config['img_size'])"
   ]
  },
  {
   "cell_type": "markdown",
   "id": "53fae9b6",
   "metadata": {},
   "source": [
    "## Map Color and Run Inference"
   ]
  },
  {
   "cell_type": "code",
   "execution_count": 6,
   "id": "1fbf04d7",
   "metadata": {},
   "outputs": [],
   "source": [
    "def infer(model, input_tensor, color_idx, device):\n",
    "    input_tensor = input_tensor.to(device)\n",
    "    color_idx_tensor = torch.tensor([color_idx], device=device)\n",
    "    with torch.no_grad():\n",
    "        prediction = model(input_tensor, color_idx_tensor)\n",
    "    prediction = prediction.squeeze(0).cpu().numpy()\n",
    "    prediction = np.transpose(prediction, (1, 2, 0))\n",
    "    prediction = np.clip(prediction, 0, 1)\n",
    "    return prediction\n",
    "\n",
    "colour_map = {name: i for i, name in enumerate(config['colour_names'])}\n",
    "color_idx = colour_map[desired_colour_name]\n",
    "prediction = infer(model, input_tensor, color_idx, device)"
   ]
  },
  {
   "cell_type": "markdown",
   "id": "39607d0b",
   "metadata": {},
   "source": [
    "## Visualize Results"
   ]
  },
  {
   "cell_type": "code",
   "execution_count": 7,
   "id": "f682c9ff",
   "metadata": {},
   "outputs": [
    {
     "data": {
      "image/png": "[encoded data removed]",
      "text/plain": [
       "<Figure size 1000x500 with 2 Axes>"
      ]
     },
     "metadata": {},
     "output_type": "display_data"
    }
   ],
   "source": [
    "def visualize_prediction(input_img_path, prediction, colour_name):\n",
    "    fig, axes = plt.subplots(1, 2, figsize=(10, 5))\n",
    "    input_img = Image.open(input_img_path)\n",
    "    axes[0].imshow(input_img, cmap='gray')\n",
    "    axes[0].set_title(f\"Input ({colour_name})\")\n",
    "    axes[0].axis('off')\n",
    "    axes[1].imshow(prediction)\n",
    "    axes[1].set_title(f\"Prediction for {colour_name}\")\n",
    "    axes[1].axis('off')\n",
    "    plt.show()\n",
    "\n",
    "visualize_prediction(input_image_path, prediction, desired_colour_name)"
   ]
  }
 ],
 "metadata": {
  "kernelspec": {
   "display_name": "ayna",
   "language": "python",
   "name": "python3"
  },
  "language_info": {
   "codemirror_mode": {
    "name": "ipython",
    "version": 3
   },
   "file_extension": ".py",
   "mimetype": "text/x-python",
   "name": "python",
   "nbconvert_exporter": "python",
   "pygments_lexer": "ipython3",
   "version": "3.11.13"
  }
 },
 "nbformat": 4,
 "nbformat_minor": 5
}
